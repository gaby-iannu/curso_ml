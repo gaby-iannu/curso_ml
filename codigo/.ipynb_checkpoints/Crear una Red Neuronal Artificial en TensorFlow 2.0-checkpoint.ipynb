{
 "cells": [
  {
   "cell_type": "markdown",
   "id": "d816fe98-13b7-401c-8b88-5928d7e190bc",
   "metadata": {},
   "source": [
    "# Paso 1: Instalar Dependencias y Configurar Entorno de GPU \n",
    "### Imagen de:\n",
    "https://www.kaggle.com/datasets/zalando-research/fashionmnist"
   ]
  },
  {
   "cell_type": "markdown",
   "id": "8a19513b-f91a-44df-a3d5-bf382310829f",
   "metadata": {},
   "source": [
    "#### Labels\n",
    "Each training and test example is assigned to one of the following labels:\n",
    "\n",
    "- 0 T-shirt/top\n",
    "- 1 Trouser\n",
    "- 2 Pullover\n",
    "- 3 Dress\n",
    "- 4 Coat\n",
    "- 5 Sandal\n",
    "- 6 Shirt\n",
    "- 7 Sneaker\n",
    "- 8 Bag\n",
    "- 9 Ankle boot"
   ]
  },
  {
   "cell_type": "markdown",
   "id": "73c4cc14-9e8b-41d2-aa27-0a207739cbaf",
   "metadata": {},
   "source": [
    "# Paso 2: Importar las dependencias necesarias para el proyecto."
   ]
  },
  {
   "cell_type": "code",
   "execution_count": 335,
   "id": "f6137bd3-39a1-4f0e-bb5e-d0b8438c2966",
   "metadata": {},
   "outputs": [],
   "source": [
    "import numpy as np\n",
    "import datetime\n",
    "import tensorflow as tf\n",
    "from tensorflow.keras.datasets import fashion_mnist"
   ]
  },
  {
   "cell_type": "code",
   "execution_count": 336,
   "id": "f0b5034a-3246-40c5-b52c-b0ab4ceb4ff2",
   "metadata": {},
   "outputs": [
    {
     "data": {
      "text/plain": [
       "'2.16.1'"
      ]
     },
     "execution_count": 336,
     "metadata": {},
     "output_type": "execute_result"
    }
   ],
   "source": [
    "tf.__version__"
   ]
  },
  {
   "cell_type": "markdown",
   "id": "6afacc77-0ecb-4680-b904-047c0560f0cb",
   "metadata": {},
   "source": [
    "# Paso 3: Preporcesado de datos"
   ]
  },
  {
   "cell_type": "code",
   "execution_count": 337,
   "id": "9d27f641-da3a-454d-b217-e84df61c056e",
   "metadata": {},
   "outputs": [],
   "source": [
    "# Cargar el dataset Fashion Mnist \n",
    "(x_train, y_train), (x_test, y_test) =  fashion_mnist.load_data()"
   ]
  },
  {
   "cell_type": "code",
   "execution_count": 338,
   "id": "a3f64b62-209f-4879-a91f-20cda08f6489",
   "metadata": {},
   "outputs": [
    {
     "data": {
      "text/plain": [
       "array([[[0, 0, 0, ..., 0, 0, 0],\n",
       "        [0, 0, 0, ..., 0, 0, 0],\n",
       "        [0, 0, 0, ..., 0, 0, 0],\n",
       "        ...,\n",
       "        [0, 0, 0, ..., 0, 0, 0],\n",
       "        [0, 0, 0, ..., 0, 0, 0],\n",
       "        [0, 0, 0, ..., 0, 0, 0]],\n",
       "\n",
       "       [[0, 0, 0, ..., 0, 0, 0],\n",
       "        [0, 0, 0, ..., 0, 0, 0],\n",
       "        [0, 0, 0, ..., 0, 0, 0],\n",
       "        ...,\n",
       "        [0, 0, 0, ..., 0, 0, 0],\n",
       "        [0, 0, 0, ..., 0, 0, 0],\n",
       "        [0, 0, 0, ..., 0, 0, 0]],\n",
       "\n",
       "       [[0, 0, 0, ..., 0, 0, 0],\n",
       "        [0, 0, 0, ..., 0, 0, 0],\n",
       "        [0, 0, 0, ..., 0, 0, 0],\n",
       "        ...,\n",
       "        [0, 0, 0, ..., 0, 0, 0],\n",
       "        [0, 0, 0, ..., 0, 0, 0],\n",
       "        [0, 0, 0, ..., 0, 0, 0]],\n",
       "\n",
       "       ...,\n",
       "\n",
       "       [[0, 0, 0, ..., 0, 0, 0],\n",
       "        [0, 0, 0, ..., 0, 0, 0],\n",
       "        [0, 0, 0, ..., 0, 0, 0],\n",
       "        ...,\n",
       "        [0, 0, 0, ..., 0, 0, 0],\n",
       "        [0, 0, 0, ..., 0, 0, 0],\n",
       "        [0, 0, 0, ..., 0, 0, 0]],\n",
       "\n",
       "       [[0, 0, 0, ..., 0, 0, 0],\n",
       "        [0, 0, 0, ..., 0, 0, 0],\n",
       "        [0, 0, 0, ..., 0, 0, 0],\n",
       "        ...,\n",
       "        [0, 0, 0, ..., 0, 0, 0],\n",
       "        [0, 0, 0, ..., 0, 0, 0],\n",
       "        [0, 0, 0, ..., 0, 0, 0]],\n",
       "\n",
       "       [[0, 0, 0, ..., 0, 0, 0],\n",
       "        [0, 0, 0, ..., 0, 0, 0],\n",
       "        [0, 0, 0, ..., 0, 0, 0],\n",
       "        ...,\n",
       "        [0, 0, 0, ..., 0, 0, 0],\n",
       "        [0, 0, 0, ..., 0, 0, 0],\n",
       "        [0, 0, 0, ..., 0, 0, 0]]], dtype=uint8)"
      ]
     },
     "execution_count": 338,
     "metadata": {},
     "output_type": "execute_result"
    }
   ],
   "source": [
    "x_test"
   ]
  },
  {
   "cell_type": "markdown",
   "id": "5eeeae23-6272-4c92-8765-e5913392f4ff",
   "metadata": {},
   "source": [
    "### Normalizar los datos\n",
    "\n",
    "Se divide cada imagen en los conjuntos de entrenamiento y testing entre el valor máximo de cada uno de los pixeles (255).\n",
    "De este modo cada pixel se hallará en el rango entre [0,1]. Al normalizar las imagenes, nos aseguramos que nuestro modelo de RNA entrenará más rapidamente."
   ]
  },
  {
   "cell_type": "code",
   "execution_count": 339,
   "id": "e5cf1229-cdb9-45ae-9962-5d3aa497a669",
   "metadata": {},
   "outputs": [],
   "source": [
    "x_train = x_train/255.0\n",
    "x_test = x_test/255.0"
   ]
  },
  {
   "cell_type": "markdown",
   "id": "52130a50-8c07-4705-be43-187d34195d4a",
   "metadata": {},
   "source": [
    "### Redimensionar el dataset\n",
    "Como vamos a utilizar una red neuronal totalmente conectada, vamos a redimensionar los subconjuntos de entrenamiento y de testing a formato de vector en lugar de formato de matriz."
   ]
  },
  {
   "cell_type": "code",
   "execution_count": 340,
   "id": "02c20c72-4482-4e2d-8e42-956db51f1f1a",
   "metadata": {},
   "outputs": [],
   "source": [
    "# Como cada imagen tiene 28x28 pixeles, usamos la función reshape en todo el dataset de entrenamiento para convertirlo \n",
    "# en vectores de tamaño [-1 (todos los elementos), ancho * altura]\n",
    "x_train = x_train.reshape(-1, 28*28)"
   ]
  },
  {
   "cell_type": "code",
   "execution_count": 341,
   "id": "f598a64a-7218-4523-bd44-13bcd6100420",
   "metadata": {},
   "outputs": [
    {
     "data": {
      "text/plain": [
       "(60000, 784)"
      ]
     },
     "execution_count": 341,
     "metadata": {},
     "output_type": "execute_result"
    }
   ],
   "source": [
    "x_train.shape"
   ]
  },
  {
   "cell_type": "code",
   "execution_count": 342,
   "id": "e26970f2-e473-4b76-8389-dff987c49f88",
   "metadata": {},
   "outputs": [],
   "source": [
    "# Redimensionamos el conjunto de testing del mismo modo\n",
    "x_test = x_test.reshape(-1, 28*28)"
   ]
  },
  {
   "cell_type": "markdown",
   "id": "4ed6deec-9f30-4267-8ff5-3d9cc1898c50",
   "metadata": {},
   "source": [
    "# Paso 4: Construir la Red Neuronal Artificial\n",
    "\n",
    "**Definir el modelo**\n",
    "\n",
    "Simplemente se define un objeto de modelo Sequential"
   ]
  },
  {
   "cell_type": "code",
   "execution_count": 343,
   "id": "5beaf3b9-b0a0-4c98-a329-e1dd7e9b57df",
   "metadata": {},
   "outputs": [],
   "source": [
    "model = tf.keras.models.Sequential()"
   ]
  },
  {
   "cell_type": "markdown",
   "id": "b0e3bc0f-b66e-4277-a105-0466f74ad2fa",
   "metadata": {},
   "source": [
    "** Añadir la primera capa (Capa Densa)**\n",
    "\n",
    "Hyper-parametros de la capa:\n",
    "\n",
    "- Número de unidades/neuronas: 128\n",
    "- Función de activación: Relu\n",
    "- input_shape: (784,)"
   ]
  },
  {
   "cell_type": "code",
   "execution_count": 344,
   "id": "af1b98de-9d69-4c10-8226-6ac786ad292a",
   "metadata": {},
   "outputs": [],
   "source": [
    "model.add(tf.keras.layers.Dense(units=128, activation='relu', input_shape=(784, )))\n",
    "# Segunda midificación\n",
    "# - Añade más capas ocultas more hidden layers\n",
    "# Resultado => test loss: 0.36831656098365784, test accuracy: 0.8680999875068665\n",
    "# model.add(tf.keras.layers.Dense(units=128, activation='relu', input_shape=(784, )))"
   ]
  },
  {
   "cell_type": "markdown",
   "id": "d3e7e61b-6346-4774-937d-f2c51cfe6f6b",
   "metadata": {},
   "source": [
    "**Añadir una capa de dropout**\n",
    "\n",
    "Dropout es una técnica de regularización dónde aleatoriamente se asignan a ciertas neuronas de la red el valor de cero. De este modo, mientras se entrena, estás neuronas no actualizarán sus valores. Al tener cierto porcentaje de neuronas sin actualizar, el proceso de entrenamiento toma más tiempo, pero por contra tenemos menos posibilidad de sufrir overfitting"
   ]
  },
  {
   "cell_type": "code",
   "execution_count": 345,
   "id": "0a258920-87ff-4860-8b13-b9f861e15205",
   "metadata": {},
   "outputs": [],
   "source": [
    "# Cuarta modificación:\n",
    "# ratios de aprendizaje\n",
    "# tf.keras.layers.Dropout(0.1) => resultado test loss: 0.35824349522590637, test accuracy: 0.8716999888420105\n",
    "# tf.keras.layers.Dropout(0.3) => resultado test loss: 0.38459134101867676, test accuracy: 0.8597000241279602\n",
    "# tf.keras.layers.Dropout(0.5) => resultado test loss: 0.3811980187892914, test accuracy: 0.8618000149726868\n",
    "model.add(tf.keras.layers.Dropout(0.2))"
   ]
  },
  {
   "cell_type": "markdown",
   "id": "5abd217e-b7f7-4070-8da5-c3375e654a78",
   "metadata": {},
   "source": [
    "**Añadir la segunda capa de salida (Capa de Salida)**\n",
    "- unidades == número de clases (10 en el caso de fashion MNIST)\n",
    "- función de activación='softmax'"
   ]
  },
  {
   "cell_type": "code",
   "execution_count": 346,
   "id": "f424d984-c0be-4b08-8d9f-879b7b0d9463",
   "metadata": {},
   "outputs": [],
   "source": [
    "# Quinta modificación para el ejericio:\n",
    "# Cambia las funciones de activación.\n",
    "# model.add(tf.keras.layers.Dense(units=10, activation='linear')) resultado => test loss: 2.30259108543396, test accuracy: 0.11909999698400497\n",
    "# model.add(tf.keras.layers.Dense(units=10, activation='gelu')) resultado => test loss: 2.303168535232544, test accuracy: 0.12489999830722809\n",
    "# model.add(tf.keras.layers.Dense(units=10, activation='hard_sigmoid')) resultado => test loss: 2.30259108543396, test accuracy: 0.10000000149011612\n",
    "# model.add(tf.keras.layers.Dense(units=10, activation='selu')) resultado => test loss: 2.30259108543396, test accuracy: 0.16580000519752502\n",
    "# model.add(tf.keras.layers.Dense(units=10, activation='sigmoid')) resultado => test loss: 0.35398903489112854, test accuracy: 0.8755999803543091\n",
    "# model.add(tf.keras.layers.Dense(units=10, activation='tanh')) resultado => test loss: 2.30259108543396, test accuracy: 0.09960000216960907\n",
    "\n",
    "model.add(tf.keras.layers.Dense(units=10, activation='softmax'))"
   ]
  },
  {
   "cell_type": "markdown",
   "id": "cf893d6c-22f7-4804-ae19-73dfad314e4b",
   "metadata": {},
   "source": [
    "### Compilar el modelo\n",
    "\n",
    "- Optimizer: Adam\n",
    "- Loss: Sparse softmax (categorical) crossentropy"
   ]
  },
  {
   "cell_type": "code",
   "execution_count": 347,
   "id": "0a9ffd76-9f33-4ecb-a5e5-bfd464621b77",
   "metadata": {},
   "outputs": [],
   "source": [
    "# Tercera modificación para el ejrcicio:\n",
    "# - Juega con el método de optimización\n",
    "# Los optimizers están en tf.keras.optimizers\n",
    "# tf.keras.optimizers.RMSprop, resultado => test loss: 0.40532565116882324, test accuracy: 0.8675000071525574\n",
    "# tf.keras.optimizers.Adadelta resultado => test loss: 1.2366349697113037, test accuracy: 0.6489999890327454\n",
    "# tf.keras.optimizers.Adamax resultado => test loss: 0.375081866979599, test accuracy: 0.8672999739646912\n",
    "# tf.keras.optimizers.AdamW resultado => test loss: 0.3649269640445709, test accuracy: 0.8684999942779541\n",
    "# tf.keras.optimizers.SGD resultado => test loss: 0.4408734440803528, test accuracy: 0.8464999794960022\n",
    "model.compile(optimizer='Adam', loss='sparse_categorical_crossentropy', metrics=['sparse_categorical_accuracy'])"
   ]
  },
  {
   "cell_type": "code",
   "execution_count": 348,
   "id": "11016349-9d56-4a06-8f97-6849fafc65e5",
   "metadata": {},
   "outputs": [
    {
     "data": {
      "text/html": [
       "<pre style=\"white-space:pre;overflow-x:auto;line-height:normal;font-family:Menlo,'DejaVu Sans Mono',consolas,'Courier New',monospace\"><span style=\"font-weight: bold\">Model: \"sequential_24\"</span>\n",
       "</pre>\n"
      ],
      "text/plain": [
       "\u001b[1mModel: \"sequential_24\"\u001b[0m\n"
      ]
     },
     "metadata": {},
     "output_type": "display_data"
    },
    {
     "data": {
      "text/html": [
       "<pre style=\"white-space:pre;overflow-x:auto;line-height:normal;font-family:Menlo,'DejaVu Sans Mono',consolas,'Courier New',monospace\">┏━━━━━━━━━━━━━━━━━━━━━━━━━━━━━━━━━┳━━━━━━━━━━━━━━━━━━━━━━━━┳━━━━━━━━━━━━━━━┓\n",
       "┃<span style=\"font-weight: bold\"> Layer (type)                    </span>┃<span style=\"font-weight: bold\"> Output Shape           </span>┃<span style=\"font-weight: bold\">       Param # </span>┃\n",
       "┡━━━━━━━━━━━━━━━━━━━━━━━━━━━━━━━━━╇━━━━━━━━━━━━━━━━━━━━━━━━╇━━━━━━━━━━━━━━━┩\n",
       "│ dense_52 (<span style=\"color: #0087ff; text-decoration-color: #0087ff\">Dense</span>)                │ (<span style=\"color: #00d7ff; text-decoration-color: #00d7ff\">None</span>, <span style=\"color: #00af00; text-decoration-color: #00af00\">128</span>)            │       <span style=\"color: #00af00; text-decoration-color: #00af00\">100,480</span> │\n",
       "├─────────────────────────────────┼────────────────────────┼───────────────┤\n",
       "│ dropout_23 (<span style=\"color: #0087ff; text-decoration-color: #0087ff\">Dropout</span>)            │ (<span style=\"color: #00d7ff; text-decoration-color: #00d7ff\">None</span>, <span style=\"color: #00af00; text-decoration-color: #00af00\">128</span>)            │             <span style=\"color: #00af00; text-decoration-color: #00af00\">0</span> │\n",
       "├─────────────────────────────────┼────────────────────────┼───────────────┤\n",
       "│ dense_53 (<span style=\"color: #0087ff; text-decoration-color: #0087ff\">Dense</span>)                │ (<span style=\"color: #00d7ff; text-decoration-color: #00d7ff\">None</span>, <span style=\"color: #00af00; text-decoration-color: #00af00\">10</span>)             │         <span style=\"color: #00af00; text-decoration-color: #00af00\">1,290</span> │\n",
       "└─────────────────────────────────┴────────────────────────┴───────────────┘\n",
       "</pre>\n"
      ],
      "text/plain": [
       "┏━━━━━━━━━━━━━━━━━━━━━━━━━━━━━━━━━┳━━━━━━━━━━━━━━━━━━━━━━━━┳━━━━━━━━━━━━━━━┓\n",
       "┃\u001b[1m \u001b[0m\u001b[1mLayer (type)                   \u001b[0m\u001b[1m \u001b[0m┃\u001b[1m \u001b[0m\u001b[1mOutput Shape          \u001b[0m\u001b[1m \u001b[0m┃\u001b[1m \u001b[0m\u001b[1m      Param #\u001b[0m\u001b[1m \u001b[0m┃\n",
       "┡━━━━━━━━━━━━━━━━━━━━━━━━━━━━━━━━━╇━━━━━━━━━━━━━━━━━━━━━━━━╇━━━━━━━━━━━━━━━┩\n",
       "│ dense_52 (\u001b[38;5;33mDense\u001b[0m)                │ (\u001b[38;5;45mNone\u001b[0m, \u001b[38;5;34m128\u001b[0m)            │       \u001b[38;5;34m100,480\u001b[0m │\n",
       "├─────────────────────────────────┼────────────────────────┼───────────────┤\n",
       "│ dropout_23 (\u001b[38;5;33mDropout\u001b[0m)            │ (\u001b[38;5;45mNone\u001b[0m, \u001b[38;5;34m128\u001b[0m)            │             \u001b[38;5;34m0\u001b[0m │\n",
       "├─────────────────────────────────┼────────────────────────┼───────────────┤\n",
       "│ dense_53 (\u001b[38;5;33mDense\u001b[0m)                │ (\u001b[38;5;45mNone\u001b[0m, \u001b[38;5;34m10\u001b[0m)             │         \u001b[38;5;34m1,290\u001b[0m │\n",
       "└─────────────────────────────────┴────────────────────────┴───────────────┘\n"
      ]
     },
     "metadata": {},
     "output_type": "display_data"
    },
    {
     "data": {
      "text/html": [
       "<pre style=\"white-space:pre;overflow-x:auto;line-height:normal;font-family:Menlo,'DejaVu Sans Mono',consolas,'Courier New',monospace\"><span style=\"font-weight: bold\"> Total params: </span><span style=\"color: #00af00; text-decoration-color: #00af00\">101,770</span> (397.54 KB)\n",
       "</pre>\n"
      ],
      "text/plain": [
       "\u001b[1m Total params: \u001b[0m\u001b[38;5;34m101,770\u001b[0m (397.54 KB)\n"
      ]
     },
     "metadata": {},
     "output_type": "display_data"
    },
    {
     "data": {
      "text/html": [
       "<pre style=\"white-space:pre;overflow-x:auto;line-height:normal;font-family:Menlo,'DejaVu Sans Mono',consolas,'Courier New',monospace\"><span style=\"font-weight: bold\"> Trainable params: </span><span style=\"color: #00af00; text-decoration-color: #00af00\">101,770</span> (397.54 KB)\n",
       "</pre>\n"
      ],
      "text/plain": [
       "\u001b[1m Trainable params: \u001b[0m\u001b[38;5;34m101,770\u001b[0m (397.54 KB)\n"
      ]
     },
     "metadata": {},
     "output_type": "display_data"
    },
    {
     "data": {
      "text/html": [
       "<pre style=\"white-space:pre;overflow-x:auto;line-height:normal;font-family:Menlo,'DejaVu Sans Mono',consolas,'Courier New',monospace\"><span style=\"font-weight: bold\"> Non-trainable params: </span><span style=\"color: #00af00; text-decoration-color: #00af00\">0</span> (0.00 B)\n",
       "</pre>\n"
      ],
      "text/plain": [
       "\u001b[1m Non-trainable params: \u001b[0m\u001b[38;5;34m0\u001b[0m (0.00 B)\n"
      ]
     },
     "metadata": {},
     "output_type": "display_data"
    }
   ],
   "source": [
    "model.summary()"
   ]
  },
  {
   "cell_type": "markdown",
   "id": "85eeef2d-4087-454e-a639-b075744e31c9",
   "metadata": {},
   "source": [
    "### Entrenar el modelo"
   ]
  },
  {
   "cell_type": "code",
   "execution_count": 349,
   "id": "6da055b1-decf-404d-9b95-47e69c1d38f1",
   "metadata": {},
   "outputs": [
    {
     "name": "stdout",
     "output_type": "stream",
     "text": [
      "Epoch 1/5\n",
      "\u001b[1m1875/1875\u001b[0m \u001b[32m━━━━━━━━━━━━━━━━━━━━\u001b[0m\u001b[37m\u001b[0m \u001b[1m2s\u001b[0m 774us/step - loss: 0.6747 - sparse_categorical_accuracy: 0.7672\n",
      "Epoch 2/5\n",
      "\u001b[1m1875/1875\u001b[0m \u001b[32m━━━━━━━━━━━━━━━━━━━━\u001b[0m\u001b[37m\u001b[0m \u001b[1m1s\u001b[0m 755us/step - loss: 0.4148 - sparse_categorical_accuracy: 0.8499\n",
      "Epoch 3/5\n",
      "\u001b[1m1875/1875\u001b[0m \u001b[32m━━━━━━━━━━━━━━━━━━━━\u001b[0m\u001b[37m\u001b[0m \u001b[1m1s\u001b[0m 761us/step - loss: 0.3683 - sparse_categorical_accuracy: 0.8663\n",
      "Epoch 4/5\n",
      "\u001b[1m1875/1875\u001b[0m \u001b[32m━━━━━━━━━━━━━━━━━━━━\u001b[0m\u001b[37m\u001b[0m \u001b[1m1s\u001b[0m 756us/step - loss: 0.3499 - sparse_categorical_accuracy: 0.8709\n",
      "Epoch 5/5\n",
      "\u001b[1m1875/1875\u001b[0m \u001b[32m━━━━━━━━━━━━━━━━━━━━\u001b[0m\u001b[37m\u001b[0m \u001b[1m1s\u001b[0m 787us/step - loss: 0.3261 - sparse_categorical_accuracy: 0.8818\n"
     ]
    },
    {
     "data": {
      "text/plain": [
       "<keras.src.callbacks.history.History at 0x28a1c1310>"
      ]
     },
     "execution_count": 349,
     "metadata": {},
     "output_type": "execute_result"
    }
   ],
   "source": [
    "# Primera modificación para el ejercicio:\n",
    "# - Intenta entrenar la red neuronal con más epochs.\n",
    "# model.fit(x_train, y_train, epochs=10)\n",
    "# Resultado => test loss: 0.3399134874343872, test accuracy: 0.8878999948501587\n",
    "model.fit(x_train, y_train, epochs=5)"
   ]
  },
  {
   "cell_type": "markdown",
   "id": "b9dbd0dc-44b1-414e-a208-0ebe5e30e2db",
   "metadata": {},
   "source": [
    "### Evaluación del modelo y predicción"
   ]
  },
  {
   "cell_type": "code",
   "execution_count": 350,
   "id": "8dce145a-758b-4ac4-8d91-f62717439f85",
   "metadata": {},
   "outputs": [
    {
     "name": "stdout",
     "output_type": "stream",
     "text": [
      "\u001b[1m313/313\u001b[0m \u001b[32m━━━━━━━━━━━━━━━━━━━━\u001b[0m\u001b[37m\u001b[0m \u001b[1m0s\u001b[0m 321us/step - loss: 0.3496 - sparse_categorical_accuracy: 0.8735\n"
     ]
    }
   ],
   "source": [
    "test_loss, test_accuracy = model.evaluate(x_test, y_test)"
   ]
  },
  {
   "cell_type": "code",
   "execution_count": 351,
   "id": "e92c7f7a-244e-497c-8b95-e194c03b6d71",
   "metadata": {},
   "outputs": [
    {
     "name": "stdout",
     "output_type": "stream",
     "text": [
      "test loss: 0.3537346422672272, test accuracy: 0.8730000257492065\n"
     ]
    }
   ],
   "source": [
    "print(\"test loss: {0}, test accuracy: {1}\".format(test_loss, test_accuracy))"
   ]
  },
  {
   "cell_type": "markdown",
   "id": "325b7f59-eede-4f11-8505-5333eb0cd7c2",
   "metadata": {},
   "source": [
    "# Paso 5: Guardar el modelo\n",
    "\n",
    "**Guardar la arquitectura (topologia) de la red neuronal**"
   ]
  },
  {
   "cell_type": "code",
   "execution_count": 352,
   "id": "19834792-270d-4802-bd5e-7e73a57e8c0e",
   "metadata": {},
   "outputs": [],
   "source": [
    "model_json = model.to_json()\n",
    "with open(\"fashion_model.json\", \"w\") as json_file:\n",
    "    json_file.write(model_json)"
   ]
  },
  {
   "cell_type": "markdown",
   "id": "ac53cd91-9c45-4b0a-8ee3-eaa3d0a41138",
   "metadata": {},
   "source": [
    "**Guarda los pesos de la red neuronal**"
   ]
  },
  {
   "cell_type": "code",
   "execution_count": 353,
   "id": "cd968d95-c438-4f23-b73f-87c914d6f9a7",
   "metadata": {},
   "outputs": [],
   "source": [
    "model.save_weights(filepath=\"fashion_model.weights.h5\")"
   ]
  },
  {
   "cell_type": "code",
   "execution_count": null,
   "id": "a876e634-8995-4bf6-a13d-8dfe50f9be41",
   "metadata": {},
   "outputs": [],
   "source": []
  }
 ],
 "metadata": {
  "kernelspec": {
   "display_name": "Python 3 (ipykernel)",
   "language": "python",
   "name": "python3"
  },
  "language_info": {
   "codemirror_mode": {
    "name": "ipython",
    "version": 3
   },
   "file_extension": ".py",
   "mimetype": "text/x-python",
   "name": "python",
   "nbconvert_exporter": "python",
   "pygments_lexer": "ipython3",
   "version": "3.11.9"
  }
 },
 "nbformat": 4,
 "nbformat_minor": 5
}
