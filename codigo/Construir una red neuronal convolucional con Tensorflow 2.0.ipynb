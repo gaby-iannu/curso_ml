{
 "cells": [
  {
   "cell_type": "markdown",
   "id": "24d60f9b-c874-4b8d-90f9-994b3446cbee",
   "metadata": {},
   "source": [
    "# Red Neuronal Convolucional\n",
    "\n",
    "Este tipo de redes se utiliza para el tratamiento de imagenes.\n",
    "Su aplicacción más directa es la de reconocimiento facial, detección de objetos o clasificación de imagenes.\n",
    "En esta sección vamos a realizar un clasificador de imagenes, con la diferencia que vamos a utilizar un dataset clasido el **cifar10**\n",
    "para centrarnos en el uso de Tensorflow 2.0, este dataset esta compuesto por diferentes clases de objetos.\n",
    "Categorias:\n",
    "- Avión\n",
    "- Coche\n",
    "- Pajaro\n",
    "- Gato\n",
    "- Ciervo\n",
    "- Perro\n",
    "- Rana\n",
    "- Caballo\n",
    "- Barco\n",
    "- Camión\n"
   ]
  },
  {
   "cell_type": "markdown",
   "id": "819dfc7e-4c63-48e5-adf2-77a354cc0655",
   "metadata": {},
   "source": [
    "### Paso 1 : Importar Librerias"
   ]
  },
  {
   "cell_type": "code",
   "execution_count": 108,
   "id": "8bd1803b-c71a-4245-a110-f048ae99e08b",
   "metadata": {},
   "outputs": [
    {
     "data": {
      "text/plain": [
       "'2.16.1'"
      ]
     },
     "execution_count": 108,
     "metadata": {},
     "output_type": "execute_result"
    }
   ],
   "source": [
    "import tensorflow as tf\n",
    "import matplotlib.pyplot as plt\n",
    "from tensorflow.keras.datasets import cifar10\n",
    "\n",
    "%matplotlib inline\n",
    "tf.__version__"
   ]
  },
  {
   "cell_type": "markdown",
   "id": "21ab01de-395f-452e-a162-5841ac5c8648",
   "metadata": {},
   "source": [
    "### Pase 2: Pre procesado de datos"
   ]
  },
  {
   "cell_type": "markdown",
   "id": "3f240f66-cb0f-4fc1-831c-0aa94cdd71b3",
   "metadata": {},
   "source": [
    "#### Cargar el dataset Cifar10"
   ]
  },
  {
   "cell_type": "code",
   "execution_count": 109,
   "id": "8606edcf-6c79-4206-933b-dd6811f8d610",
   "metadata": {},
   "outputs": [],
   "source": [
    "# Configurar el nombre de las clases del dataset\n",
    "class_names = ['avión','coche','pajaro', 'gato', 'ciervo', 'perro', 'rana', 'caballo', 'barco', 'camión']"
   ]
  },
  {
   "cell_type": "code",
   "execution_count": 110,
   "id": "45dc0e03-ae30-4053-b83f-4cafa49946c2",
   "metadata": {},
   "outputs": [],
   "source": [
    "# Cargar el dataset\n",
    "(x_train, y_train), (x_test, y_test) = cifar10.load_data()"
   ]
  },
  {
   "cell_type": "markdown",
   "id": "b7c68702-6322-48fa-bbf6-f2d81a953ba4",
   "metadata": {},
   "source": [
    "#### Normalización de las imagenes"
   ]
  },
  {
   "cell_type": "code",
   "execution_count": 111,
   "id": "f7538db5-39b7-42db-8993-c84322871a29",
   "metadata": {},
   "outputs": [],
   "source": [
    "x_train = x_train/255.0"
   ]
  },
  {
   "cell_type": "code",
   "execution_count": 112,
   "id": "dc986126-42b4-434c-8ad1-00a325ced9e8",
   "metadata": {},
   "outputs": [
    {
     "data": {
      "text/plain": [
       "(50000, 32, 32, 3)"
      ]
     },
     "execution_count": 112,
     "metadata": {},
     "output_type": "execute_result"
    }
   ],
   "source": [
    "x_train.shape"
   ]
  },
  {
   "cell_type": "code",
   "execution_count": 113,
   "id": "cdc7d8a8-cc07-490d-8d4e-4965d996588e",
   "metadata": {},
   "outputs": [],
   "source": [
    "x_test = x_test/255.0"
   ]
  },
  {
   "cell_type": "code",
   "execution_count": 114,
   "id": "e8dc7a3b-9062-49b4-8fc6-3dfcef7eb221",
   "metadata": {},
   "outputs": [
    {
     "data": {
      "text/plain": [
       "<matplotlib.image.AxesImage at 0x1771afd90>"
      ]
     },
     "execution_count": 114,
     "metadata": {},
     "output_type": "execute_result"
    },
    {
     "data": {
      "image/png": "[encoded data removed]",
      "text/plain": [
       "<Figure size 640x480 with 1 Axes>"
      ]
     },
     "metadata": {},
     "output_type": "display_data"
    }
   ],
   "source": [
    "plt.imshow(x_test[10])"
   ]
  },
  {
   "cell_type": "code",
   "execution_count": 115,
   "id": "d6c09590-b3c4-4832-90c6-2e49c21c4bff",
   "metadata": {},
   "outputs": [
    {
     "data": {
      "text/plain": [
       "array([0], dtype=uint8)"
      ]
     },
     "execution_count": 115,
     "metadata": {},
     "output_type": "execute_result"
    }
   ],
   "source": [
    "y_test[10]"
   ]
  },
  {
   "cell_type": "markdown",
   "id": "3cb727d1-822b-44c3-b38c-498182f0cf50",
   "metadata": {},
   "source": [
    "### Paso 3: Construir una red neuronal convolucional "
   ]
  },
  {
   "cell_type": "markdown",
   "id": "f34bb788-3ef3-4636-bc72-44aaf6f84378",
   "metadata": {},
   "source": [
    "### Definir el modelo"
   ]
  },
  {
   "cell_type": "code",
   "execution_count": 116,
   "id": "951edd47-a934-4765-b10e-8ef733228bdb",
   "metadata": {},
   "outputs": [],
   "source": [
    "model = tf.keras.models.Sequential()"
   ]
  },
  {
   "cell_type": "markdown",
   "id": "319f5172-144a-412f-882c-023a4006b898",
   "metadata": {},
   "source": [
    "### Añadir la primer capa de convolución\n",
    "\n",
    "Hyper parametros de la primer capa de la RNC:\n",
    "- Filtros: 32\n",
    "- Tamaño del kernel: 3\n",
    "- Padding: same\n",
    "- Función de activación: ReLu\n",
    "- input_shape: (32, 32, 3)"
   ]
  },
  {
   "cell_type": "code",
   "execution_count": 117,
   "id": "fe9e823c-598f-4fce-b9a1-ff15df2abf00",
   "metadata": {},
   "outputs": [],
   "source": [
    "model.add(tf.keras.layers.Conv2D(filters=32, kernel_size=3, padding='same', activation='relu'))"
   ]
  },
  {
   "cell_type": "markdown",
   "id": "1d414a91-0468-4cb9-bd94-372bfa40c8b8",
   "metadata": {},
   "source": [
    "### Añadir la segunda capa de convolución y la capa max-pooling\n",
    "\n",
    "Hyper parámetros de la capa de la RNC:\n",
    "\n",
    "- Filtros: 32\n",
    "- Tamaño del kernel: 3\n",
    "- Padding: same\n",
    "- Función de activación: ReLu\n",
    "\n",
    "Hyper parámetros de la capa de MaxPool:\n",
    "\n",
    "- pool_size: 2\n",
    "- strides: 2\n",
    "- padding: valid\n",
    "\n"
   ]
  },
  {
   "cell_type": "code",
   "execution_count": 118,
   "id": "38d4f93c-93f3-4f8f-a61e-b5745801db17",
   "metadata": {},
   "outputs": [],
   "source": [
    "model.add(tf.keras.layers.Conv2D(filters=32, kernel_size=3, padding='same', activation='relu'))"
   ]
  },
  {
   "cell_type": "code",
   "execution_count": 119,
   "id": "bbe305e3-34e3-4b92-b629-aa79c9787ae2",
   "metadata": {},
   "outputs": [],
   "source": [
    "model.add(tf.keras.layers.MaxPool2D(pool_size=2, strides=2, padding='valid'))"
   ]
  },
  {
   "cell_type": "markdown",
   "id": "ef960177-1c4b-460d-9944-8a70cffa97cd",
   "metadata": {},
   "source": [
    "### Añadir la tercer capa convolucional\n",
    "\n",
    "Hyper parámetros de la capa de la RNC\n",
    "\n",
    "- Filtros: 64\n",
    "- Tamaño del kernel: 3\n",
    "- padding: same\n",
    "- Función de activación: relu"
   ]
  },
  {
   "cell_type": "code",
   "execution_count": 120,
   "id": "c5ac311e-d1ae-446d-8f37-3d1a83d27bd0",
   "metadata": {},
   "outputs": [],
   "source": [
    "model.add(tf.keras.layers.Conv2D(filters=64, kernel_size=3, padding='same', activation='relu'))"
   ]
  },
  {
   "cell_type": "markdown",
   "id": "5ae53759-dec8-49a7-baad-d75e55ac2f2d",
   "metadata": {},
   "source": [
    "### Añadir la cuarta capa convilucional y la capa de max pooling\n",
    "\n",
    "Hyper parámetros de la capa de la RNC\n",
    "\n",
    "- Filtros: 64\n",
    "- Tamaño del kernel: 3\n",
    "- padding: same\n",
    "- Función de activación: relu\n",
    "\n",
    "Hyper parámetros de la capa de la MaxPool:\n",
    "\n",
    "- pool_size: 2\n",
    "- strides: 2\n",
    "- padding: valid"
   ]
  },
  {
   "cell_type": "code",
   "execution_count": 121,
   "id": "68fca11d-5215-4632-9334-cb7f843984ed",
   "metadata": {},
   "outputs": [],
   "source": [
    "model.add(tf.keras.layers.Conv2D(filters=64, kernel_size=3, padding='same', activation='relu'))\n"
   ]
  },
  {
   "cell_type": "code",
   "execution_count": 122,
   "id": "be678be5-c7b4-4fe2-8c5d-fd5e31c34b2c",
   "metadata": {},
   "outputs": [],
   "source": [
    "model.add(tf.keras.layers.MaxPool2D(pool_size=2, strides=2, padding='valid'))"
   ]
  },
  {
   "cell_type": "markdown",
   "id": "ed54a4b0-2ef2-4a0e-b1b3-f4caeaac5692",
   "metadata": {},
   "source": [
    "### Añadir la capa de flattening"
   ]
  },
  {
   "cell_type": "code",
   "execution_count": 123,
   "id": "5e4f1346-f723-42e9-8ce4-fdb4e6008870",
   "metadata": {},
   "outputs": [],
   "source": [
    "model.add(tf.keras.layers.Flatten())"
   ]
  },
  {
   "cell_type": "markdown",
   "id": "5fc0a5e1-c6df-41c4-b92b-c28a8b6cbd6f",
   "metadata": {},
   "source": [
    "### Añadir la primer capa fully-conected\n",
    "\n",
    "Hyper parámetros de la primer capa totalmente conectada\n",
    "\n",
    "- units/neurons: 128\n",
    "- activation: relu"
   ]
  },
  {
   "cell_type": "code",
   "execution_count": 124,
   "id": "67f91cc4-07a3-499a-bcdb-664418e0ceae",
   "metadata": {},
   "outputs": [],
   "source": [
    "model.add(tf.keras.layers.Dense(units=128, activation='relu'))"
   ]
  },
  {
   "cell_type": "markdown",
   "id": "816ae8fe-32be-49c8-9253-ed73a2450017",
   "metadata": {},
   "source": [
    "### Añadir la capa de salida\n",
    "\n",
    "Hyper parámetros de la capa totalmente conectada:\n",
    "\n",
    "- units/neurons: 10 (number of classes)\n",
    "- activation: softmax"
   ]
  },
  {
   "cell_type": "code",
   "execution_count": 125,
   "id": "bba50ce0-3028-429f-b799-a813fa99dd48",
   "metadata": {},
   "outputs": [],
   "source": [
    "model.add(tf.keras.layers.Dense(units=10, activation='softmax'))"
   ]
  },
  {
   "cell_type": "code",
   "execution_count": 126,
   "id": "01e4a2b2-2f07-45d9-ae83-ac5f3b839268",
   "metadata": {},
   "outputs": [
    {
     "data": {
      "text/html": [
       "<pre style=\"white-space:pre;overflow-x:auto;line-height:normal;font-family:Menlo,'DejaVu Sans Mono',consolas,'Courier New',monospace\"><span style=\"font-weight: bold\">Model: \"sequential_5\"</span>\n",
       "</pre>\n"
      ],
      "text/plain": [
       "\u001b[1mModel: \"sequential_5\"\u001b[0m\n"
      ]
     },
     "metadata": {},
     "output_type": "display_data"
    },
    {
     "data": {
      "text/html": [
       "<pre style=\"white-space:pre;overflow-x:auto;line-height:normal;font-family:Menlo,'DejaVu Sans Mono',consolas,'Courier New',monospace\">┏━━━━━━━━━━━━━━━━━━━━━━━━━━━━━━━━━┳━━━━━━━━━━━━━━━━━━━━━━━━┳━━━━━━━━━━━━━━━┓\n",
       "┃<span style=\"font-weight: bold\"> Layer (type)                    </span>┃<span style=\"font-weight: bold\"> Output Shape           </span>┃<span style=\"font-weight: bold\">       Param # </span>┃\n",
       "┡━━━━━━━━━━━━━━━━━━━━━━━━━━━━━━━━━╇━━━━━━━━━━━━━━━━━━━━━━━━╇━━━━━━━━━━━━━━━┩\n",
       "│ conv2d_24 (<span style=\"color: #0087ff; text-decoration-color: #0087ff\">Conv2D</span>)              │ ?                      │   <span style=\"color: #00af00; text-decoration-color: #00af00\">0</span> (unbuilt) │\n",
       "├─────────────────────────────────┼────────────────────────┼───────────────┤\n",
       "│ conv2d_25 (<span style=\"color: #0087ff; text-decoration-color: #0087ff\">Conv2D</span>)              │ ?                      │   <span style=\"color: #00af00; text-decoration-color: #00af00\">0</span> (unbuilt) │\n",
       "├─────────────────────────────────┼────────────────────────┼───────────────┤\n",
       "│ max_pooling2d_12 (<span style=\"color: #0087ff; text-decoration-color: #0087ff\">MaxPooling2D</span>) │ ?                      │   <span style=\"color: #00af00; text-decoration-color: #00af00\">0</span> (unbuilt) │\n",
       "├─────────────────────────────────┼────────────────────────┼───────────────┤\n",
       "│ conv2d_26 (<span style=\"color: #0087ff; text-decoration-color: #0087ff\">Conv2D</span>)              │ ?                      │   <span style=\"color: #00af00; text-decoration-color: #00af00\">0</span> (unbuilt) │\n",
       "├─────────────────────────────────┼────────────────────────┼───────────────┤\n",
       "│ conv2d_27 (<span style=\"color: #0087ff; text-decoration-color: #0087ff\">Conv2D</span>)              │ ?                      │   <span style=\"color: #00af00; text-decoration-color: #00af00\">0</span> (unbuilt) │\n",
       "├─────────────────────────────────┼────────────────────────┼───────────────┤\n",
       "│ max_pooling2d_13 (<span style=\"color: #0087ff; text-decoration-color: #0087ff\">MaxPooling2D</span>) │ ?                      │   <span style=\"color: #00af00; text-decoration-color: #00af00\">0</span> (unbuilt) │\n",
       "├─────────────────────────────────┼────────────────────────┼───────────────┤\n",
       "│ flatten_5 (<span style=\"color: #0087ff; text-decoration-color: #0087ff\">Flatten</span>)             │ ?                      │   <span style=\"color: #00af00; text-decoration-color: #00af00\">0</span> (unbuilt) │\n",
       "├─────────────────────────────────┼────────────────────────┼───────────────┤\n",
       "│ dense_12 (<span style=\"color: #0087ff; text-decoration-color: #0087ff\">Dense</span>)                │ ?                      │   <span style=\"color: #00af00; text-decoration-color: #00af00\">0</span> (unbuilt) │\n",
       "├─────────────────────────────────┼────────────────────────┼───────────────┤\n",
       "│ dense_13 (<span style=\"color: #0087ff; text-decoration-color: #0087ff\">Dense</span>)                │ ?                      │   <span style=\"color: #00af00; text-decoration-color: #00af00\">0</span> (unbuilt) │\n",
       "└─────────────────────────────────┴────────────────────────┴───────────────┘\n",
       "</pre>\n"
      ],
      "text/plain": [
       "┏━━━━━━━━━━━━━━━━━━━━━━━━━━━━━━━━━┳━━━━━━━━━━━━━━━━━━━━━━━━┳━━━━━━━━━━━━━━━┓\n",
       "┃\u001b[1m \u001b[0m\u001b[1mLayer (type)                   \u001b[0m\u001b[1m \u001b[0m┃\u001b[1m \u001b[0m\u001b[1mOutput Shape          \u001b[0m\u001b[1m \u001b[0m┃\u001b[1m \u001b[0m\u001b[1m      Param #\u001b[0m\u001b[1m \u001b[0m┃\n",
       "┡━━━━━━━━━━━━━━━━━━━━━━━━━━━━━━━━━╇━━━━━━━━━━━━━━━━━━━━━━━━╇━━━━━━━━━━━━━━━┩\n",
       "│ conv2d_24 (\u001b[38;5;33mConv2D\u001b[0m)              │ ?                      │   \u001b[38;5;34m0\u001b[0m (unbuilt) │\n",
       "├─────────────────────────────────┼────────────────────────┼───────────────┤\n",
       "│ conv2d_25 (\u001b[38;5;33mConv2D\u001b[0m)              │ ?                      │   \u001b[38;5;34m0\u001b[0m (unbuilt) │\n",
       "├─────────────────────────────────┼────────────────────────┼───────────────┤\n",
       "│ max_pooling2d_12 (\u001b[38;5;33mMaxPooling2D\u001b[0m) │ ?                      │   \u001b[38;5;34m0\u001b[0m (unbuilt) │\n",
       "├─────────────────────────────────┼────────────────────────┼───────────────┤\n",
       "│ conv2d_26 (\u001b[38;5;33mConv2D\u001b[0m)              │ ?                      │   \u001b[38;5;34m0\u001b[0m (unbuilt) │\n",
       "├─────────────────────────────────┼────────────────────────┼───────────────┤\n",
       "│ conv2d_27 (\u001b[38;5;33mConv2D\u001b[0m)              │ ?                      │   \u001b[38;5;34m0\u001b[0m (unbuilt) │\n",
       "├─────────────────────────────────┼────────────────────────┼───────────────┤\n",
       "│ max_pooling2d_13 (\u001b[38;5;33mMaxPooling2D\u001b[0m) │ ?                      │   \u001b[38;5;34m0\u001b[0m (unbuilt) │\n",
       "├─────────────────────────────────┼────────────────────────┼───────────────┤\n",
       "│ flatten_5 (\u001b[38;5;33mFlatten\u001b[0m)             │ ?                      │   \u001b[38;5;34m0\u001b[0m (unbuilt) │\n",
       "├─────────────────────────────────┼────────────────────────┼───────────────┤\n",
       "│ dense_12 (\u001b[38;5;33mDense\u001b[0m)                │ ?                      │   \u001b[38;5;34m0\u001b[0m (unbuilt) │\n",
       "├─────────────────────────────────┼────────────────────────┼───────────────┤\n",
       "│ dense_13 (\u001b[38;5;33mDense\u001b[0m)                │ ?                      │   \u001b[38;5;34m0\u001b[0m (unbuilt) │\n",
       "└─────────────────────────────────┴────────────────────────┴───────────────┘\n"
      ]
     },
     "metadata": {},
     "output_type": "display_data"
    },
    {
     "data": {
      "text/html": [
       "<pre style=\"white-space:pre;overflow-x:auto;line-height:normal;font-family:Menlo,'DejaVu Sans Mono',consolas,'Courier New',monospace\"><span style=\"font-weight: bold\"> Total params: </span><span style=\"color: #00af00; text-decoration-color: #00af00\">0</span> (0.00 B)\n",
       "</pre>\n"
      ],
      "text/plain": [
       "\u001b[1m Total params: \u001b[0m\u001b[38;5;34m0\u001b[0m (0.00 B)\n"
      ]
     },
     "metadata": {},
     "output_type": "display_data"
    },
    {
     "data": {
      "text/html": [
       "<pre style=\"white-space:pre;overflow-x:auto;line-height:normal;font-family:Menlo,'DejaVu Sans Mono',consolas,'Courier New',monospace\"><span style=\"font-weight: bold\"> Trainable params: </span><span style=\"color: #00af00; text-decoration-color: #00af00\">0</span> (0.00 B)\n",
       "</pre>\n"
      ],
      "text/plain": [
       "\u001b[1m Trainable params: \u001b[0m\u001b[38;5;34m0\u001b[0m (0.00 B)\n"
      ]
     },
     "metadata": {},
     "output_type": "display_data"
    },
    {
     "data": {
      "text/html": [
       "<pre style=\"white-space:pre;overflow-x:auto;line-height:normal;font-family:Menlo,'DejaVu Sans Mono',consolas,'Courier New',monospace\"><span style=\"font-weight: bold\"> Non-trainable params: </span><span style=\"color: #00af00; text-decoration-color: #00af00\">0</span> (0.00 B)\n",
       "</pre>\n"
      ],
      "text/plain": [
       "\u001b[1m Non-trainable params: \u001b[0m\u001b[38;5;34m0\u001b[0m (0.00 B)\n"
      ]
     },
     "metadata": {},
     "output_type": "display_data"
    }
   ],
   "source": [
    "model.summary()"
   ]
  },
  {
   "cell_type": "markdown",
   "id": "9b660bae-7a44-4be7-b21b-39f2512452cc",
   "metadata": {},
   "source": [
    "### Compilar el modelo\n",
    "\n",
    "**sparse_categorilcal_accuracy**\n",
    "\n",
    "sparse_categorical_accuracy comprueba si el valor verdadero maximal coincide con el indice maximal del valor de la predicción.\n",
    "\n",
    "https://stackoverflow.com/questions/44477489/keras-difference-between-categorical-accuracy-and-sparse-categorical-accuracy"
   ]
  },
  {
   "cell_type": "code",
   "execution_count": 127,
   "id": "1c8f0a90-4b7b-4428-8cd6-5d5ce7506328",
   "metadata": {},
   "outputs": [],
   "source": [
    "model.compile(loss='sparse_categorical_crossentropy', optimizer='Adam', metrics=['sparse_categorical_accuracy'])"
   ]
  },
  {
   "cell_type": "markdown",
   "id": "0122bb3f-e94d-4faf-80fd-5c6443d24431",
   "metadata": {},
   "source": [
    "### Entrenar el modelo"
   ]
  },
  {
   "cell_type": "code",
   "execution_count": 128,
   "id": "86c97e5d-3356-40f9-94ec-36b0b200cd57",
   "metadata": {},
   "outputs": [
    {
     "name": "stdout",
     "output_type": "stream",
     "text": [
      "Epoch 1/5\n",
      "\u001b[1m1563/1563\u001b[0m \u001b[32m━━━━━━━━━━━━━━━━━━━━\u001b[0m\u001b[37m\u001b[0m \u001b[1m48s\u001b[0m 30ms/step - loss: 1.6655 - sparse_categorical_accuracy: 0.3884\n",
      "Epoch 2/5\n",
      "\u001b[1m1563/1563\u001b[0m \u001b[32m━━━━━━━━━━━━━━━━━━━━\u001b[0m\u001b[37m\u001b[0m \u001b[1m46s\u001b[0m 30ms/step - loss: 0.9452 - sparse_categorical_accuracy: 0.6677\n",
      "Epoch 3/5\n",
      "\u001b[1m1563/1563\u001b[0m \u001b[32m━━━━━━━━━━━━━━━━━━━━\u001b[0m\u001b[37m\u001b[0m \u001b[1m46s\u001b[0m 30ms/step - loss: 0.7288 - sparse_categorical_accuracy: 0.7431\n",
      "Epoch 4/5\n",
      "\u001b[1m1563/1563\u001b[0m \u001b[32m━━━━━━━━━━━━━━━━━━━━\u001b[0m\u001b[37m\u001b[0m \u001b[1m46s\u001b[0m 29ms/step - loss: 0.5912 - sparse_categorical_accuracy: 0.7909\n",
      "Epoch 5/5\n",
      "\u001b[1m1563/1563\u001b[0m \u001b[32m━━━━━━━━━━━━━━━━━━━━\u001b[0m\u001b[37m\u001b[0m \u001b[1m48s\u001b[0m 30ms/step - loss: 0.4911 - sparse_categorical_accuracy: 0.8282\n"
     ]
    },
    {
     "data": {
      "text/plain": [
       "<keras.src.callbacks.history.History at 0x17722d3d0>"
      ]
     },
     "execution_count": 128,
     "metadata": {},
     "output_type": "execute_result"
    }
   ],
   "source": [
    "model.fit(x_train, y_train, epochs=5)"
   ]
  },
  {
   "cell_type": "markdown",
   "id": "717d0a36-60cd-4a5b-bd7a-10a3afce7bf0",
   "metadata": {},
   "source": [
    "### Evaluar el modelo"
   ]
  },
  {
   "cell_type": "code",
   "execution_count": 129,
   "id": "3f03ce6e-2735-4e38-bcb9-7d2ebdec931e",
   "metadata": {},
   "outputs": [
    {
     "name": "stdout",
     "output_type": "stream",
     "text": [
      "\u001b[1m313/313\u001b[0m \u001b[32m━━━━━━━━━━━━━━━━━━━━\u001b[0m\u001b[37m\u001b[0m \u001b[1m3s\u001b[0m 9ms/step - loss: 0.7410 - sparse_categorical_accuracy: 0.7509\n"
     ]
    }
   ],
   "source": [
    "test_loss, test_accuracy = model.evaluate(x_test, y_test)"
   ]
  },
  {
   "cell_type": "code",
   "execution_count": 132,
   "id": "f9818194-a4de-4097-a7b8-53dc6a502b3b",
   "metadata": {},
   "outputs": [
    {
     "name": "stdout",
     "output_type": "stream",
     "text": [
      "test_loss: $0.7632331848144531, test_accuracy: $0.7433000206947327\n"
     ]
    }
   ],
   "source": [
    "print(\"test_loss: ${0}, test_accuracy: ${1}\".format(test_loss, test_accuracy))"
   ]
  },
  {
   "cell_type": "code",
   "execution_count": null,
   "id": "70818e8e-58bb-4539-bb5c-20425c158138",
   "metadata": {},
   "outputs": [],
   "source": []
  }
 ],
 "metadata": {
  "kernelspec": {
   "display_name": "Python 3 (ipykernel)",
   "language": "python",
   "name": "python3"
  },
  "language_info": {
   "codemirror_mode": {
    "name": "ipython",
    "version": 3
   },
   "file_extension": ".py",
   "mimetype": "text/x-python",
   "name": "python",
   "nbconvert_exporter": "python",
   "pygments_lexer": "ipython3",
   "version": "3.11.9"
  }
 },
 "nbformat": 4,
 "nbformat_minor": 5
}
