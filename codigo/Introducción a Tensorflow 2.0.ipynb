{
 "cells": [
  {
   "cell_type": "code",
   "execution_count": 6,
   "id": "7ad2000a-8232-498e-9959-27e0b5588166",
   "metadata": {},
   "outputs": [],
   "source": [
    "import tensorflow as tf\n",
    "import numpy as np"
   ]
  },
  {
   "cell_type": "code",
   "execution_count": 4,
   "id": "1905ad3a-5087-4be3-8b28-8437cf37a5ce",
   "metadata": {},
   "outputs": [
    {
     "data": {
      "text/plain": [
       "'2.16.1'"
      ]
     },
     "execution_count": 4,
     "metadata": {},
     "output_type": "execute_result"
    }
   ],
   "source": [
    "tf.__version__"
   ]
  },
  {
   "cell_type": "markdown",
   "id": "fd24df80-0952-46fb-82d9-68bc268c56d7",
   "metadata": {},
   "source": [
    "# Constantes"
   ]
  },
  {
   "cell_type": "markdown",
   "id": "35e4b6e4-4082-4b8c-bed9-caa74f33e750",
   "metadata": {},
   "source": [
    "### Definir Constantes"
   ]
  },
  {
   "cell_type": "code",
   "execution_count": 7,
   "id": "3371b0ec-d843-4ee1-9e6e-1408e328994f",
   "metadata": {},
   "outputs": [],
   "source": [
    "# Definir una constante en tensorflow 2.0\n",
    "tensor_20 = tf.constant([[23,4],[32,51]])"
   ]
  },
  {
   "cell_type": "code",
   "execution_count": 8,
   "id": "ec3a5319-425e-43b2-b171-ae87649d0969",
   "metadata": {},
   "outputs": [
    {
     "data": {
      "text/plain": [
       "<tf.Tensor: shape=(2, 2), dtype=int32, numpy=\n",
       "array([[23,  4],\n",
       "       [32, 51]], dtype=int32)>"
      ]
     },
     "execution_count": 8,
     "metadata": {},
     "output_type": "execute_result"
    }
   ],
   "source": [
    "tensor_20"
   ]
  },
  {
   "cell_type": "code",
   "execution_count": 9,
   "id": "6674d248-e92e-4e89-9781-f41fa6a4b6d8",
   "metadata": {},
   "outputs": [
    {
     "data": {
      "text/plain": [
       "TensorShape([2, 2])"
      ]
     },
     "execution_count": 9,
     "metadata": {},
     "output_type": "execute_result"
    }
   ],
   "source": [
    "# Obtener el tamaño de un tensor\n",
    "tensor_20.shape"
   ]
  },
  {
   "cell_type": "markdown",
   "id": "f341b6e0-7174-4e9e-af6f-95c7cecea091",
   "metadata": {},
   "source": [
    "### Consultar los valores de un tensor"
   ]
  },
  {
   "cell_type": "code",
   "execution_count": 12,
   "id": "35b74291-8aa9-44f0-88d5-efacbabf9c72",
   "metadata": {},
   "outputs": [
    {
     "data": {
      "text/plain": [
       "array([[23,  4],\n",
       "       [32, 51]], dtype=int32)"
      ]
     },
     "execution_count": 12,
     "metadata": {},
     "output_type": "execute_result"
    }
   ],
   "source": [
    "# Obtener los valores directamente desde una constante de TensorFlow con numpy, sin necesidad de una session\n",
    "tensor_20.numpy()"
   ]
  },
  {
   "cell_type": "code",
   "execution_count": 13,
   "id": "1bb89a1c-cebf-414f-ae85-9e6a9f166f70",
   "metadata": {},
   "outputs": [],
   "source": [
    "# Podemos convertir un array de numpy a un tensor de TensorFlow directamente\n",
    "numpy_tensor = np.array([[23,3],[44,5]])"
   ]
  },
  {
   "cell_type": "code",
   "execution_count": 14,
   "id": "b09f7af3-cc03-4c9f-9034-0f91c1a7cdc0",
   "metadata": {},
   "outputs": [
    {
     "name": "stdout",
     "output_type": "stream",
     "text": [
      "(2, 2)\n",
      "[[23  3]\n",
      " [44  5]]\n"
     ]
    }
   ],
   "source": [
    "print(numpy_tensor.shape)\n",
    "print(numpy_tensor)"
   ]
  },
  {
   "cell_type": "code",
   "execution_count": 15,
   "id": "51db2556-135d-46a4-93fd-b916e93488ae",
   "metadata": {},
   "outputs": [],
   "source": [
    "tensor_from_numpy = tf.constant(numpy_tensor)"
   ]
  },
  {
   "cell_type": "code",
   "execution_count": 16,
   "id": "11b452f7-a296-4dc9-9373-39d2cc867e46",
   "metadata": {},
   "outputs": [
    {
     "data": {
      "text/plain": [
       "<tf.Tensor: shape=(2, 2), dtype=int64, numpy=\n",
       "array([[23,  3],\n",
       "       [44,  5]])>"
      ]
     },
     "execution_count": 16,
     "metadata": {},
     "output_type": "execute_result"
    }
   ],
   "source": [
    "tensor_from_numpy"
   ]
  },
  {
   "cell_type": "markdown",
   "id": "b0746349-0eea-4a69-9cc8-16d848ff26bf",
   "metadata": {},
   "source": [
    "# Variables"
   ]
  },
  {
   "cell_type": "markdown",
   "id": "5e8ed1b7-ddcb-4923-8d39-6fe921267e63",
   "metadata": {},
   "source": [
    "### Definir Variables"
   ]
  },
  {
   "cell_type": "code",
   "execution_count": 21,
   "id": "c3b87c66-71dd-4e43-bc52-4081c3e05b9d",
   "metadata": {},
   "outputs": [
    {
     "data": {
      "text/plain": [
       "<tf.Variable 'Variable:0' shape=(2, 3) dtype=float32, numpy=\n",
       "array([[1., 2., 3.],\n",
       "       [4., 5., 6.]], dtype=float32)>"
      ]
     },
     "execution_count": 21,
     "metadata": {},
     "output_type": "execute_result"
    }
   ],
   "source": [
    "tf2_variable = tf.Variable([[1., 2., 3.], [4., 5., 6.]])\n",
    "tf2_variable"
   ]
  },
  {
   "cell_type": "markdown",
   "id": "59084873-8d28-449c-8a8d-0f9fc844b2b4",
   "metadata": {},
   "source": [
    "### Consultar los valores de una variable"
   ]
  },
  {
   "cell_type": "code",
   "execution_count": 22,
   "id": "68f34f90-dcbf-4456-b805-1297a97d5235",
   "metadata": {},
   "outputs": [
    {
     "data": {
      "text/plain": [
       "array([[1., 2., 3.],\n",
       "       [4., 5., 6.]], dtype=float32)"
      ]
     },
     "execution_count": 22,
     "metadata": {},
     "output_type": "execute_result"
    }
   ],
   "source": [
    "tf2_variable.numpy()"
   ]
  },
  {
   "cell_type": "markdown",
   "id": "5f358c72-6c23-4338-bc46-5663cbd1f144",
   "metadata": {},
   "source": [
    "### Cambiar un valor especifico de una variable"
   ]
  },
  {
   "cell_type": "code",
   "execution_count": 23,
   "id": "e208c4d8-f72d-42e9-a20d-cce2d2dbb096",
   "metadata": {},
   "outputs": [
    {
     "data": {
      "text/plain": [
       "<tf.Variable 'UnreadVariable' shape=(2, 3) dtype=float32, numpy=\n",
       "array([[  1.,   2., 100.],\n",
       "       [  4.,   5.,   6.]], dtype=float32)>"
      ]
     },
     "execution_count": 23,
     "metadata": {},
     "output_type": "execute_result"
    }
   ],
   "source": [
    "tf2_variable[0, 2].assign(100)"
   ]
  },
  {
   "cell_type": "code",
   "execution_count": 24,
   "id": "d7439443-dbae-4179-90ae-406fd065b813",
   "metadata": {},
   "outputs": [
    {
     "data": {
      "text/plain": [
       "<tf.Variable 'Variable:0' shape=(2, 3) dtype=float32, numpy=\n",
       "array([[  1.,   2., 100.],\n",
       "       [  4.,   5.,   6.]], dtype=float32)>"
      ]
     },
     "execution_count": 24,
     "metadata": {},
     "output_type": "execute_result"
    }
   ],
   "source": [
    "tf2_variable"
   ]
  },
  {
   "cell_type": "markdown",
   "id": "3ebf81c4-7dfc-4cec-9cd1-aa5dac398960",
   "metadata": {},
   "source": [
    "### Operaciones con tensores"
   ]
  },
  {
   "cell_type": "code",
   "execution_count": 26,
   "id": "b08ea190-54b5-4210-8b31-107f8eb98bad",
   "metadata": {},
   "outputs": [],
   "source": [
    "\n",
    "tensor = tf.constant([[1,2],[3,4]])"
   ]
  },
  {
   "cell_type": "code",
   "execution_count": 31,
   "id": "c3cdcce7-6ae1-4a7b-a615-5bd869890cc9",
   "metadata": {},
   "outputs": [
    {
     "name": "stdout",
     "output_type": "stream",
     "text": [
      "Tensor:  tf.Tensor(\n",
      "[[1 2]\n",
      " [3 4]], shape=(2, 2), dtype=int32)\n",
      "Sumar un escalar a un tensor:  tf.Tensor(\n",
      "[[3 4]\n",
      " [5 6]], shape=(2, 2), dtype=int32)\n",
      "Multiplicar un escalar por un tensor:  tf.Tensor(\n",
      "[[ 5 10]\n",
      " [15 20]], shape=(2, 2), dtype=int32)\n"
     ]
    }
   ],
   "source": [
    "# Operaciones con escalares\n",
    "print(\"Tensor: \", tensor)\n",
    "print(\"Sumar un escalar a un tensor: \", tensor + 2)\n",
    "print(\"Multiplicar un escalar por un tensor: \", tensor * 5)"
   ]
  },
  {
   "cell_type": "code",
   "execution_count": 33,
   "id": "3c30abe3-fd17-475f-95bf-6dae6dab20c4",
   "metadata": {},
   "outputs": [
    {
     "name": "stdout",
     "output_type": "stream",
     "text": [
      "Tensor original:  tf.Tensor(\n",
      "[[1 2]\n",
      " [3 4]], shape=(2, 2), dtype=int32)\n",
      "Obtener el cuadrado de todos los números de un tensor:  [[ 1  4]\n",
      " [ 9 16]]\n",
      "Obtener la raiz cuadrada de los números de un tensor:  [[1.         1.41421356]\n",
      " [1.73205081 2.        ]]\n"
     ]
    }
   ],
   "source": [
    "# Operaciones con numpy\n",
    "print(\"Tensor original: \", tensor)\n",
    "print(\"Obtener el cuadrado de todos los números de un tensor: \", np.square(tensor))\n",
    "print(\"Obtener la raiz cuadrada de los números de un tensor: \", np.sqrt(tensor))"
   ]
  },
  {
   "cell_type": "code",
   "execution_count": 34,
   "id": "70c6abf3-47ba-4bfb-81d8-de49aa1508c8",
   "metadata": {},
   "outputs": [
    {
     "data": {
      "text/plain": [
       "array([[ 87, 106],\n",
       "       [197, 216]], dtype=int32)"
      ]
     },
     "execution_count": 34,
     "metadata": {},
     "output_type": "execute_result"
    }
   ],
   "source": [
    "# Producto escalar entre dos tensores\n",
    "np.dot(tensor, tensor_20)"
   ]
  },
  {
   "cell_type": "markdown",
   "id": "deef4c96-6659-43fb-b604-b54f944b9dc4",
   "metadata": {},
   "source": [
    "# Strings en TensorFlow 2.0"
   ]
  },
  {
   "cell_type": "code",
   "execution_count": 35,
   "id": "2c8d24a2-0c28-475d-83a0-3d2fa1641a5b",
   "metadata": {},
   "outputs": [
    {
     "data": {
      "text/plain": [
       "<tf.Tensor: shape=(), dtype=string, numpy=b'TensorFlow'>"
      ]
     },
     "execution_count": 35,
     "metadata": {},
     "output_type": "execute_result"
    }
   ],
   "source": [
    "tf_string = tf.constant(\"TensorFlow\")\n",
    "tf_string"
   ]
  },
  {
   "cell_type": "markdown",
   "id": "bd15050a-9789-4de6-aea6-0855a8d3738b",
   "metadata": {},
   "source": [
    "### Operaciones simplmes con strings"
   ]
  },
  {
   "cell_type": "code",
   "execution_count": 36,
   "id": "75246ca4-59ed-4ea2-af51-5d2470b6fa65",
   "metadata": {},
   "outputs": [
    {
     "data": {
      "text/plain": [
       "<tf.Tensor: shape=(), dtype=int32, numpy=10>"
      ]
     },
     "execution_count": 36,
     "metadata": {},
     "output_type": "execute_result"
    }
   ],
   "source": [
    "tf.strings.length(tf_string)"
   ]
  },
  {
   "cell_type": "code",
   "execution_count": 38,
   "id": "c3443282-6044-4fed-b883-652370dd577e",
   "metadata": {},
   "outputs": [
    {
     "data": {
      "text/plain": [
       "<tf.Tensor: shape=(10,), dtype=int32, numpy=array([ 84, 101, 110, 115, 111, 114,  70, 108, 111, 119], dtype=int32)>"
      ]
     },
     "execution_count": 38,
     "metadata": {},
     "output_type": "execute_result"
    }
   ],
   "source": [
    "tf.strings.unicode_decode(tf_string, \"UTF8\")"
   ]
  },
  {
   "cell_type": "markdown",
   "id": "ab29e191-191b-4c7a-a383-222155c452ee",
   "metadata": {},
   "source": [
    "### Almacenar arrays de strings"
   ]
  },
  {
   "cell_type": "code",
   "execution_count": 39,
   "id": "31455790-ee28-4ed6-8ce5-d3431fa4f7bd",
   "metadata": {},
   "outputs": [],
   "source": [
    "tf_string_array = tf.constant([\"TensorFlw\", \"Deep Learning\", \"AI\"])"
   ]
  },
  {
   "cell_type": "code",
   "execution_count": 40,
   "id": "d20f8427-fd81-4e3d-998e-29cea10515dd",
   "metadata": {},
   "outputs": [
    {
     "name": "stdout",
     "output_type": "stream",
     "text": [
      "tf.Tensor(b'TensorFlw', shape=(), dtype=string)\n",
      "tf.Tensor(b'Deep Learning', shape=(), dtype=string)\n",
      "tf.Tensor(b'AI', shape=(), dtype=string)\n"
     ]
    }
   ],
   "source": [
    "for str in tf_string_array:\n",
    "    print(str)"
   ]
  },
  {
   "cell_type": "code",
   "execution_count": null,
   "id": "02838bba-d41b-4ab5-aecd-c11a221afa73",
   "metadata": {},
   "outputs": [],
   "source": []
  }
 ],
 "metadata": {
  "kernelspec": {
   "display_name": "Python 3 (ipykernel)",
   "language": "python",
   "name": "python3"
  },
  "language_info": {
   "codemirror_mode": {
    "name": "ipython",
    "version": 3
   },
   "file_extension": ".py",
   "mimetype": "text/x-python",
   "name": "python",
   "nbconvert_exporter": "python",
   "pygments_lexer": "ipython3",
   "version": "3.11.9"
  }
 },
 "nbformat": 4,
 "nbformat_minor": 5
}
